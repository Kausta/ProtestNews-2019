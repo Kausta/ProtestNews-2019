{
 "cells": [
  {
   "cell_type": "code",
   "execution_count": 1,
   "metadata": {},
   "outputs": [],
   "source": [
    "j = open(\"trial.json\").readlines()"
   ]
  },
  {
   "cell_type": "code",
   "execution_count": 8,
   "metadata": {},
   "outputs": [
    {
     "data": {
      "text/plain": [
       "'{\"label\":0,\"sent_num\":4,\"sentence\":\"REDACTED\",\"text\":\"Anantapur Lawyers to Revive Samaikya Agitation, to Lay Siege to Courts Today 27th January 2014 09:58 AM Renewing the Samikyandhra agitation, the lawyers of the district have decided to take on a series of protests starting with laying siege to courts on Monday. A meeting of lawyers was held in the town on Sunday in which the members of the Anantapur Bar Association in which various protests were planned. Speaking to reporters later, advocatesâ€™ leader Valmiki Gangadhar reiterated their demand that the state should be kept united. â€œBifurcation is being done without taking into consideration the opinion of the people of Seemandhra region. The Bill did not contain any proposals for developing the backward regions of Rayalaseema and North Coastal areas,â€™â€™ he said. As part of their protests, the lawyers have decided to lay siege to courts in the district on Monday. â€œWe appeal to all Samaikyandhra supporters, students and youth to participate in the protest and make it a success,â€™â€™ he said. On January 28, the lawyers decided to take out rallies across the district and on January 29, they decided to stage a dharna at Indira Park in Hyderabad along with Bar associations of all the other Seemandhra districts. State bar Association vice-president A Rami Reddy said that they will organise a mass fast at the Clock Tower in the town on January 30 and asked the Bar association members and lawyers from the district to join them. The lawyers body will also organise a meeting on January 31 at the Krishna Kala Mandir on January 31 to chalk out the future course of action. The lawyers also decided to send SMSes to all the MPs in the country with the slogan of â€˜Vibhajana Vaddu - Samaikhyam Muddu,â€™ if the AP Reorganisation Bill is sent to the Parliament by the state Assembly. It was also decided to file a PIL in the Supreme Court against the â€˜flawedâ€™ Bill. â€œAll people, who support unified state, in the Seemandhra region and Telangana should file a PIL in the apex court,â€™â€™ the lawyers urged. url : http:\\\\/\\\\/www.newindianexpress.com\\\\/states\\\\/andhra-pradesh\\\\/2014\\\\/jan\\\\/27\\\\/Anantapur-Lawyers-to-Revive-Samaikya-Agitation-to-Lay-Siege-to-Courts-Today-568575.html\",\"url\":\"http:\\\\/\\\\/www.newindianexpress.com\\\\/states\\\\/andhra-pradesh\\\\/2014\\\\/jan\\\\/27\\\\/Anantapur-Lawyers-to-Revive-Samaikya-Agitation-to-Lay-Siege-to-Courts-Today-568575.html\",\"id\":\"\",\"last\":false,\"org_sentence\":\"â€œBifurcation is being done without taking into consideration the opinion of the people of Seemandhra region.\"}\\n'"
      ]
     },
     "execution_count": 8,
     "metadata": {},
     "output_type": "execute_result"
    }
   ],
   "source": [
    "j[3]"
   ]
  },
  {
   "cell_type": "code",
   "execution_count": null,
   "metadata": {},
   "outputs": [],
   "source": []
  }
 ],
 "metadata": {
  "kernelspec": {
   "display_name": "Python 3",
   "language": "python",
   "name": "python3"
  },
  "language_info": {
   "codemirror_mode": {
    "name": "ipython",
    "version": 3
   },
   "file_extension": ".py",
   "mimetype": "text/x-python",
   "name": "python",
   "nbconvert_exporter": "python",
   "pygments_lexer": "ipython3",
   "version": "3.7.1"
  }
 },
 "nbformat": 4,
 "nbformat_minor": 2
}
